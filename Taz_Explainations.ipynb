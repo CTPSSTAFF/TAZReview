{
 "cells": [
  {
   "cell_type": "code",
   "execution_count": 1,
   "metadata": {},
   "outputs": [],
   "source": [
    "from viztaz import Review"
   ]
  },
  {
   "cell_type": "code",
   "execution_count": 2,
   "metadata": {
    "tags": [
     "parameters"
    ]
   },
   "outputs": [],
   "source": [
    "oldtaz = [5]\n",
    "active_layers = {'old_taz': 1,'labels':  1,'blocks':  0,'new_taz': 0,'basemap': 1}"
   ]
  },
  {
   "cell_type": "code",
   "execution_count": null,
   "metadata": {},
   "outputs": [],
   "source": [
    "review = Review(oldtaz)\n",
    "review.before_after(show_layers = active_layers)\n",
    "review.before_after(show_layers = {'old_taz': 0,'labels':  0,'blocks':  0,'new_taz': 1,'basemap': 1})\n",
    "review.before_after(legend=True)"
   ]
  }
 ],
 "metadata": {
  "kernelspec": {
   "display_name": "tdm23_env_1",
   "language": "python",
   "name": "python3"
  },
  "language_info": {
   "codemirror_mode": {
    "name": "ipython",
    "version": 3
   },
   "file_extension": ".py",
   "mimetype": "text/x-python",
   "name": "python",
   "nbconvert_exporter": "python",
   "pygments_lexer": "ipython3",
   "version": "3.8.12"
  }
 },
 "nbformat": 4,
 "nbformat_minor": 2
}
